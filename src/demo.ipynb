{
 "cells": [
  {
   "cell_type": "markdown",
   "source": [
    "# Github Live Tracker Project -- Demo and Explanation"
   ],
   "metadata": {
    "collapsed": false
   }
  },
  {
   "cell_type": "markdown",
   "source": [
    "Responsibilities:\n",
    "- [Dmytro Ostapenko](https://github.com/dima1034) -- work with Github API\n",
    "- [Valentyn Yukhymenko](https://github.com/BaLiKfromUA) -- data processing according to tasks, making it work with API part + demo"
   ],
   "metadata": {
    "collapsed": false
   }
  },
  {
   "cell_type": "code",
   "execution_count": 1,
   "outputs": [],
   "source": [
    "import os\n",
    "\n",
    "os.environ['ACCESS_TOKEN'] = 'add your token'"
   ],
   "metadata": {
    "collapsed": false,
    "ExecuteTime": {
     "start_time": "2024-04-23T00:50:41.585312Z",
     "end_time": "2024-04-23T00:50:41.592442Z"
    }
   }
  },
  {
   "cell_type": "markdown",
   "source": [
    "### New Repo Processor Demo -- Interesting insights about Valentyn's nickname\n",
    "\n",
    "Task:\n",
    "> Highlight the new projects that included the searched keyword. (Assume you have a data store that stores all streamed data so you can track if the given project was there before or not)\n",
    "\n",
    "For demo purposes, as a datastore, we would use prepopulated in-memory dictionary.\n",
    "\n",
    "Let's search for Valentyn's github nickname -- `BaLiKfromUA`\n"
   ],
   "metadata": {
    "collapsed": false
   }
  },
  {
   "cell_type": "code",
   "execution_count": 2,
   "metadata": {
    "collapsed": true,
    "ExecuteTime": {
     "start_time": "2024-04-22T21:13:02.735166Z",
     "end_time": "2024-04-22T21:13:04.008694Z"
    }
   },
   "outputs": [
    {
     "name": "stdout",
     "output_type": "stream",
     "text": [
      "For keyword BaLiKfromUA, new repo was found -- darkbot-reloaded/DarkBotAPI\n",
      "New repo tracking completed\n"
     ]
    },
    {
     "data": {
      "text/plain": "<reactivex.disposable.disposable.Disposable at 0x7953089d5120>"
     },
     "execution_count": 2,
     "metadata": {},
     "output_type": "execute_result"
    }
   ],
   "source": [
    "from reactivex import Observable\n",
    "\n",
    "import github_client as gh\n",
    "import new_repo_processor as new_repo\n",
    "from message import GithubEvent\n",
    "\n",
    "from new_repo_processor import ReposPerKeywordStorage\n",
    "\n",
    "keyword = \"BaLiKfromUA\"\n",
    "\n",
    "storage: ReposPerKeywordStorage = {\n",
    "    keyword: {\"BaLiKfromUA/pylox\"}  # store Valentyn's repo which contains his nickname in README links\n",
    "}\n",
    "\n",
    "fetched_data: Observable[GithubEvent] = await gh.fetch_data_as_observable(keyword)  # get GH data as stream\n",
    "data_processor = new_repo.filter_new_repos(storage)  # carry storage with data processor\n",
    "\n",
    "data_pipeline = data_processor(fetched_data)  # pipe fetched data and data processor\n",
    "\n",
    "# output relevant repo names\n",
    "data_pipeline.subscribe(\n",
    "    on_next=lambda event: print(f\"For keyword {event.keyword}, new repo was found -- {event.repo_name}\"),\n",
    "    on_error=print,\n",
    "    on_completed=lambda: print(\"New repo tracking completed\")\n",
    ")"
   ]
  },
  {
   "cell_type": "markdown",
   "source": [
    "If we check [darkbot-reloaded/DarkBotAPI](https://github.com/darkbot-reloaded/DarkBotAPI) for given keyword, we would find a link to Valentyn's old gist, lol.\n",
    "\n",
    "[https://github.com/darkbot-reloaded/DarkBotAPI/blob/9a9ca286a3d309d589b69ca4ab841339a176bf3d/config/pmd/pmd-rules.xml#L88](https://github.com/darkbot-reloaded/DarkBotAPI/blob/9a9ca286a3d309d589b69ca4ab841339a176bf3d/config/pmd/pmd-rules.xml#L88)"
   ],
   "metadata": {
    "collapsed": false
   }
  },
  {
   "cell_type": "markdown",
   "source": [
    "### Language statistics demo -- todolist implementations\n",
    "Task:\n",
    "> Provide statistics on the programming language in which the keyword was mentioned (using that statistic, we should be able to build a frequency graph where Y is the number of projects written in a specific programming language where the keyword was mentioned and X is a programming language.)\n",
    "\n",
    "Let's search for projects which use `velox.api.layer0` dependency and get a statistics about such projects"
   ],
   "metadata": {
    "collapsed": false
   }
  },
  {
   "cell_type": "code",
   "execution_count": 2,
   "outputs": [
    {
     "name": "stdout",
     "output_type": "stream",
     "text": [
      "Lang stats calculation completed\n"
     ]
    },
    {
     "data": {
      "text/plain": "<Figure size 1000x1000 with 1 Axes>",
      "image/png": "[encoded data removed]"
     },
     "metadata": {},
     "output_type": "display_data"
    }
   ],
   "source": [
    "import matplotlib.pyplot as plt\n",
    "from reactivex import Observable\n",
    "\n",
    "import github_client as gh\n",
    "import language_stats_processor as lang\n",
    "from message import GithubEvent\n",
    "\n",
    "keyword = \"velox.api.layer0\"\n",
    "\n",
    "fetched_data: Observable[GithubEvent] = await gh.fetch_data_as_observable(keyword)  # get GH data as stream\n",
    "data_processor = lang.get_lang_stats(dict())  # carry in-memory storage with data processor\n",
    "\n",
    "data_pipeline = data_processor(fetched_data)  # pipe fetched data and data processor\n",
    "\n",
    "stats = {}\n",
    "\n",
    "\n",
    "def setter(event: lang.LangStats):\n",
    "    stats[event.lang] = event.cnt\n",
    "\n",
    "\n",
    "data_pipeline.subscribe(on_next=setter, on_error=print,\n",
    "                        on_completed=lambda: print(\"Lang stats calculation completed\"))\n",
    "\n",
    "langs = list(stats.keys())\n",
    "cnts = list(stats.values())\n",
    "\n",
    "fig = plt.figure(figsize=(10, 10))\n",
    "plt.bar(langs, cnts, color='maroon', width=0.7)\n",
    "\n",
    "plt.xlabel(\"Programming language\")\n",
    "plt.ylabel(\"Repos found\")\n",
    "plt.title(\"Demo\")\n",
    "\n",
    "# Adjust font size and rotation for better readability\n",
    "plt.xticks(rotation=90, fontsize=8)\n",
    "plt.tight_layout()  # Adjust layout to prevent clipping of labels\n",
    "\n",
    "plt.show()"
   ],
   "metadata": {
    "collapsed": false,
    "ExecuteTime": {
     "start_time": "2024-04-23T00:50:46.509189Z",
     "end_time": "2024-04-23T00:50:56.625038Z"
    }
   }
  },
  {
   "cell_type": "markdown",
   "source": [
    "The fact that Java is leading connected to the fact that library is written on Java so stats look good! C++ is mentioned because of ability to call C++ code via JNI functionality directly from Java code."
   ],
   "metadata": {
    "collapsed": false
   }
  },
  {
   "cell_type": "markdown",
   "source": [
    "### Top 5 projects\n",
    "\n",
    "Task:\n",
    "> Highlight top 5 projects in which the given keyword was mentioned most of the time during the last day\n",
    "\n",
    "For this demo I didn't come up with good real world example, so will show a synthetic one with hardcoded data"
   ],
   "metadata": {
    "collapsed": false
   }
  },
  {
   "cell_type": "code",
   "execution_count": 1,
   "outputs": [
    {
     "name": "stdout",
     "output_type": "stream",
     "text": [
      "\n",
      "['torvalds/linux', 'google/go', 'python-org/CPython', 'rust-org/rust', 'BaLiKfromUA/pylox']\n"
     ]
    }
   ],
   "source": [
    "from datetime import datetime, timedelta\n",
    "from message import GithubEvent\n",
    "\n",
    "from reactivex import from_iterable\n",
    "\n",
    "import top_mentioned_projects_processor as top\n",
    "\n",
    "# GIVEN\n",
    "events = [\n",
    "    GithubEvent(keyword=\"job\", repo_fullname=\"python-org/CPython\", stars_cnt=40_000,\n",
    "                found_date=datetime.now() - timedelta(hours=4), langs=[\"C\", \"python\"]),\n",
    "    GithubEvent(keyword=\"job\", repo_fullname=\"rust-org/rust\", stars_cnt=20_000,\n",
    "                found_date=datetime.now() - timedelta(hours=2), langs=[\"Rust\", \"C++\"]),\n",
    "    GithubEvent(keyword=\"different keyword\", repo_fullname=\"very popular repo\", stars_cnt=100_000,\n",
    "                found_date=datetime.now() - timedelta(hours=3), langs=[\"Javascript\"]),\n",
    "    GithubEvent(keyword=\"job\", repo_fullname=\"google/go\", stars_cnt=50_000,\n",
    "                found_date=datetime.now() - timedelta(hours=2, minutes=10), langs=[\"Go\", \"C++\"]),\n",
    "    GithubEvent(keyword=\"job\", repo_fullname=\"BaLiKfromUA/pylox\", stars_cnt=3,\n",
    "                found_date=datetime.now() - timedelta(hours=2), langs=[\"Python\"]),\n",
    "    GithubEvent(keyword=\"job\", repo_fullname=\"torvalds/linux\", stars_cnt=100_000,\n",
    "                found_date=datetime.now() - timedelta(hours=10), langs=[\"C\"]),\n",
    "    GithubEvent(keyword=\"job\", repo_fullname=\"hashicorp/golang-lru\", stars_cnt=4100,\n",
    "                found_date=datetime.now() - timedelta(days=2), langs=[\"Go\"]),\n",
    "]\n",
    "\n",
    "data_processor = top.get_top_5_mentioned_projects(\"job\")\n",
    "source_stream = from_iterable(events)\n",
    "\n",
    "# WHEN\n",
    "result = []\n",
    "data_processor(source_stream).subscribe(on_next=result.append, on_error=print, on_completed=print)\n",
    "\n",
    "# THEN\n",
    "print(result)"
   ],
   "metadata": {
    "collapsed": false,
    "ExecuteTime": {
     "start_time": "2024-04-25T01:57:57.258193Z",
     "end_time": "2024-04-25T01:57:57.271956Z"
    }
   }
  },
  {
   "cell_type": "markdown",
   "source": [
    "We do not see \"golang-lru\" because of date and do not see \"very popular repo\" because of different keyword. Results are sorted by stars."
   ],
   "metadata": {
    "collapsed": false
   }
  }
 ],
 "metadata": {
  "kernelspec": {
   "display_name": "Python 3",
   "language": "python",
   "name": "python3"
  },
  "language_info": {
   "codemirror_mode": {
    "name": "ipython",
    "version": 2
   },
   "file_extension": ".py",
   "mimetype": "text/x-python",
   "name": "python",
   "nbconvert_exporter": "python",
   "pygments_lexer": "ipython2",
   "version": "2.7.6"
  }
 },
 "nbformat": 4,
 "nbformat_minor": 0
}
